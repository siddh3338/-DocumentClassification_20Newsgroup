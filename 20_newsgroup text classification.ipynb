{
 "cells": [
  {
   "cell_type": "code",
   "execution_count": 1,
   "metadata": {},
   "outputs": [],
   "source": [
    "import pandas as pd\n",
    "from sklearn.datasets import load_files\n",
    "import numpy as np\n",
    "import math"
   ]
  },
  {
   "cell_type": "code",
   "execution_count": 2,
   "metadata": {},
   "outputs": [],
   "source": [
    "DEBUG = False\n",
    "# Switch this variable to debug the code"
   ]
  },
  {
   "cell_type": "code",
   "execution_count": 3,
   "metadata": {},
   "outputs": [],
   "source": [
    "#Loading data from the folder\n",
    "files = load_files('D:/20_newsgroups/')"
   ]
  },
  {
   "cell_type": "code",
   "execution_count": 4,
   "metadata": {},
   "outputs": [
    {
     "data": {
      "text/plain": [
       "19997"
      ]
     },
     "execution_count": 4,
     "metadata": {},
     "output_type": "execute_result"
    }
   ],
   "source": [
    "len(files.data)"
   ]
  },
  {
   "cell_type": "code",
   "execution_count": 5,
   "metadata": {
    "scrolled": true
   },
   "outputs": [],
   "source": [
    "if DEBUG:\n",
    "    print(files)"
   ]
  },
  {
   "cell_type": "code",
   "execution_count": 6,
   "metadata": {},
   "outputs": [],
   "source": [
    "if DEBUG:\n",
    "    print(files.data[0])"
   ]
  },
  {
   "cell_type": "code",
   "execution_count": 7,
   "metadata": {},
   "outputs": [],
   "source": [
    "import string\n",
    "from nltk.corpus import stopwords\n",
    "#For Punctuations and Stopwords\n",
    "\n",
    "import nltk\n",
    "from nltk import pos_tag\n",
    "from nltk.stem import WordNetLemmatizer\n",
    "from nltk.corpus import wordnet\n",
    "#For Lemmatizing"
   ]
  },
  {
   "cell_type": "code",
   "execution_count": 8,
   "metadata": {},
   "outputs": [],
   "source": [
    "n = len(files.data)\n",
    "# No. of Rows "
   ]
  },
  {
   "cell_type": "code",
   "execution_count": 9,
   "metadata": {},
   "outputs": [],
   "source": [
    "data = []\n",
    "for i in range(n):\n",
    "    data.append(files.data[i].decode(\"ISO-8859-1\"))\n",
    "# convert all byte type data"
   ]
  },
  {
   "cell_type": "code",
   "execution_count": 10,
   "metadata": {},
   "outputs": [],
   "source": [
    "if DEBUG:\n",
    "    print(data[0])"
   ]
  },
  {
   "cell_type": "code",
   "execution_count": 11,
   "metadata": {},
   "outputs": [],
   "source": [
    "stop = stopwords.words('english')\n",
    "# List of some english stopwords\n",
    "\n",
    "punct = list(string.punctuation)\n",
    "# List of punctuations"
   ]
  },
  {
   "cell_type": "code",
   "execution_count": 12,
   "metadata": {},
   "outputs": [],
   "source": [
    "split = punct\n",
    "split += \" \"\n",
    "split += \"\\n\"\n",
    "num = [\"1\",\"2\",\"3\",\"4\",\"5\",\"6\",\"7\",\"8\",\"9\",\"0\"]\n",
    "split += num\n",
    "\n",
    "# split contains all possible breaking point for tokenizing the sentence"
   ]
  },
  {
   "cell_type": "code",
   "execution_count": 13,
   "metadata": {},
   "outputs": [],
   "source": [
    "def self_tokenize(str):\n",
    "    # str is a paragraph of string type\n",
    "    \n",
    "    res=[]\n",
    "    m = len(str)\n",
    "    i=0\n",
    "    temp = \"\"\n",
    "    while i<m :\n",
    "        if ((str[i] in split) or (i==m-1)):\n",
    "            # if we reach the end of paragraph or we find a breaking point the stop here and add that word(if its length is greater than 1) in our res\n",
    "            if len(temp)>1:\n",
    "                res.append(temp)\n",
    "            temp=\"\"\n",
    "            # Make temp empty for next word\n",
    "        else:\n",
    "            temp += str[i]\n",
    "            #else add the current character in temp\n",
    "            \n",
    "        i+=1\n",
    "    return res\n",
    "# returning a list of tokenized words"
   ]
  },
  {
   "cell_type": "code",
   "execution_count": 14,
   "metadata": {},
   "outputs": [],
   "source": [
    "if DEBUG:\n",
    "    self_tokenize(data[0])"
   ]
  },
  {
   "cell_type": "code",
   "execution_count": 15,
   "metadata": {},
   "outputs": [],
   "source": [
    "documents = []\n",
    "for i in range(n):\n",
    "    documents.append((self_tokenize(data[i]),files.target[i]))\n",
    "    # append the tokenized list along with its corresponding target value"
   ]
  },
  {
   "cell_type": "code",
   "execution_count": 16,
   "metadata": {},
   "outputs": [],
   "source": [
    "# function to get pos tag in required format for lemmatization\n",
    "def get_simple_pos(w):\n",
    "    if w.startswith(\"J\"):\n",
    "        return wordnet.ADJ\n",
    "    elif w.startswith(\"N\"):\n",
    "        return wordnet.NOUN\n",
    "    elif w.startswith(\"V\"):\n",
    "        return wordnet.VERB\n",
    "    elif w.startswith(\"R\"):\n",
    "        return wordnet.ADV\n",
    "    else:\n",
    "        return wordnet.NOUN"
   ]
  },
  {
   "cell_type": "code",
   "execution_count": 17,
   "metadata": {},
   "outputs": [],
   "source": [
    "lemma = WordNetLemmatizer()"
   ]
  },
  {
   "cell_type": "code",
   "execution_count": 18,
   "metadata": {},
   "outputs": [],
   "source": [
    "def clean_review(word):\n",
    "    out = []\n",
    "    # out will contain lemmatized words which are not present in stopwords\n",
    "    for w in word:\n",
    "        #if that word in not in stopword list\n",
    "        if w.lower() not in stop:\n",
    "            #get current pos tag\n",
    "            cur_pos = pos_tag([w])[0][1]\n",
    "            #lemmatize it\n",
    "            w = lemma.lemmatize(w,pos=get_simple_pos(cur_pos))\n",
    "            #add it to the output\n",
    "            out.append(w.lower())\n",
    "    return out"
   ]
  },
  {
   "cell_type": "code",
   "execution_count": 19,
   "metadata": {},
   "outputs": [],
   "source": [
    "if DEBUG:\n",
    "    clean_review(documents[0][0])"
   ]
  },
  {
   "cell_type": "code",
   "execution_count": 20,
   "metadata": {},
   "outputs": [],
   "source": [
    "documents = [(clean_review(x),y) for x,y in documents]\n",
    "# clean all the data that you are having"
   ]
  },
  {
   "cell_type": "code",
   "execution_count": 21,
   "metadata": {},
   "outputs": [],
   "source": [
    "all_words = []\n",
    "for i in range(n):\n",
    "    all_words += documents[i][0]\n",
    "# all_word contain all the words present in the files"
   ]
  },
  {
   "cell_type": "code",
   "execution_count": 22,
   "metadata": {},
   "outputs": [],
   "source": [
    "if DEBUG:\n",
    "    len(all_words)"
   ]
  },
  {
   "cell_type": "code",
   "execution_count": 23,
   "metadata": {},
   "outputs": [],
   "source": [
    "freq = nltk.FreqDist(all_words)\n",
    "#This will create a dictionary of words along with its freaquency in files"
   ]
  },
  {
   "cell_type": "code",
   "execution_count": 24,
   "metadata": {},
   "outputs": [],
   "source": [
    "common = freq.most_common(3000)\n",
    "#selecting the most common 3000 words"
   ]
  },
  {
   "cell_type": "code",
   "execution_count": 25,
   "metadata": {},
   "outputs": [],
   "source": [
    "if DEBUG:\n",
    "    print(common)"
   ]
  },
  {
   "cell_type": "code",
   "execution_count": 26,
   "metadata": {},
   "outputs": [],
   "source": [
    "feature = [x for x,y in common]\n",
    "#get all the features from the pairs\n",
    "if DEBUG:\n",
    "    print(feature)"
   ]
  },
  {
   "cell_type": "code",
   "execution_count": 27,
   "metadata": {},
   "outputs": [],
   "source": [
    "lookup ={}\n",
    "i=0\n",
    "for x in feature:\n",
    "    lookup[x]=i\n",
    "    i=i+1\n",
    "# maintain a dictionary of features along with its column number\n",
    "#this will be useful when we will fill the array"
   ]
  },
  {
   "cell_type": "code",
   "execution_count": 28,
   "metadata": {},
   "outputs": [],
   "source": [
    "mat = np.zeros((n,3000), dtype=int)\n",
    "# create an array of size n X 3000\n",
    "#where n ni no of rows"
   ]
  },
  {
   "cell_type": "code",
   "execution_count": 29,
   "metadata": {},
   "outputs": [],
   "source": [
    "for cur in range(n):\n",
    "    for word in documents[cur][0]:\n",
    "        if word in lookup:\n",
    "            mat[cur][lookup[word]]+=1\n",
    "#filing the matrix "
   ]
  },
  {
   "cell_type": "code",
   "execution_count": 30,
   "metadata": {},
   "outputs": [],
   "source": [
    "X = mat\n",
    "Y = files.target\n",
    "# Assigning X and Y values"
   ]
  },
  {
   "cell_type": "code",
   "execution_count": 31,
   "metadata": {},
   "outputs": [],
   "source": [
    "from sklearn.model_selection import train_test_split\n",
    "x_train,x_test,y_train,y_test = train_test_split(X,Y,random_state=1)"
   ]
  },
  {
   "cell_type": "markdown",
   "metadata": {},
   "source": [
    "# CLASSIFICATION USING INBUILT MULTINOMIAL NAIVE BAYES"
   ]
  },
  {
   "cell_type": "code",
   "execution_count": 32,
   "metadata": {},
   "outputs": [],
   "source": [
    "from sklearn.naive_bayes import MultinomialNB\n",
    "from sklearn.model_selection import GridSearchCV\n",
    "# Using grid search to find optimal value of alpha"
   ]
  },
  {
   "cell_type": "code",
   "execution_count": 33,
   "metadata": {},
   "outputs": [],
   "source": [
    "clf = MultinomialNB()\n"
   ]
  },
  {
   "cell_type": "code",
   "execution_count": 34,
   "metadata": {},
   "outputs": [
    {
     "data": {
      "text/plain": [
       "GridSearchCV(cv=None, error_score='raise',\n",
       "       estimator=MultinomialNB(alpha=1.0, class_prior=None, fit_prior=True),\n",
       "       fit_params=None, iid=True, n_jobs=1,\n",
       "       param_grid={'alpha': [0.01, 0.05, 0.1, 0.3, 0.5, 0.7, 1, 5, 10]},\n",
       "       pre_dispatch='2*n_jobs', refit=True, return_train_score='warn',\n",
       "       scoring=None, verbose=0)"
      ]
     },
     "execution_count": 34,
     "metadata": {},
     "output_type": "execute_result"
    }
   ],
   "source": [
    "grid = {\"alpha\":[0.01,0.05,0.1,0.3,0.5,0.7,1,5,10]}\n",
    "alg = GridSearchCV(clf,grid)\n",
    "alg.fit(x_train,y_train)"
   ]
  },
  {
   "cell_type": "code",
   "execution_count": 35,
   "metadata": {},
   "outputs": [
    {
     "data": {
      "text/plain": [
       "0.8414"
      ]
     },
     "execution_count": 35,
     "metadata": {},
     "output_type": "execute_result"
    }
   ],
   "source": [
    "alg.score(x_test,y_test)"
   ]
  },
  {
   "cell_type": "code",
   "execution_count": 36,
   "metadata": {},
   "outputs": [],
   "source": [
    "if DEBUG:\n",
    "    print(alg.best_estimator_)"
   ]
  },
  {
   "cell_type": "code",
   "execution_count": null,
   "metadata": {},
   "outputs": [],
   "source": []
  },
  {
   "cell_type": "markdown",
   "metadata": {},
   "source": [
    "# IMPLEMENTING NAIVE BAYES FROM SCRATCH"
   ]
  },
  {
   "cell_type": "code",
   "execution_count": 37,
   "metadata": {},
   "outputs": [],
   "source": [
    "def fit(x_train,y_train):\n",
    "    #make a dictionary\n",
    "    result = {}\n",
    "    \n",
    "    #store all possible class(output)\n",
    "    all_class = set(y_train)\n",
    "    \n",
    "    for cur_class in all_class:\n",
    "        # for each class create another dictionary with the riginal dictionary\n",
    "        result[cur_class] = {}\n",
    "        \n",
    "        #Select all rows whose class is equal to current class\n",
    "        find=(y_train==cur_class)\n",
    "        \n",
    "        #Hence, find the corresponding rows \n",
    "        cur_x = x_train[find]\n",
    "        cur_y = y_train[find]\n",
    "        \n",
    "        # Now for each column store its count\n",
    "        for cur_col in range(3000):\n",
    "            result[cur_class][cur_col] = cur_x[:,cur_col].sum()\n",
    "        \n",
    "        #store the total count of the cur_class\n",
    "        result[cur_class][\"total_count\"] = cur_x[:,:].sum()\n",
    "        \n",
    "    #find the total count of words of whole data\n",
    "    result[\"total_data\"]=x_train[:,:].sum()\n",
    "    return result"
   ]
  },
  {
   "cell_type": "code",
   "execution_count": 54,
   "metadata": {},
   "outputs": [],
   "source": [
    "def predict_single(X,dictionary):\n",
    "    #it will predict the output of single row\n",
    "    \n",
    "    #all possible classes\n",
    "    classes = set(dictionary.keys())\n",
    "    \n",
    "    #best_p => best probability till now\n",
    "    #res => output corresponding to the best probability till now\n",
    "    #first to check that in case it is the first iteration , assign it as the best_p \n",
    "    best_p=-1\n",
    "    res=-1\n",
    "    first=True\n",
    "    \n",
    "    for cur_class in classes:\n",
    "        \n",
    "        #Continue if cur_class is \"total_data\"\n",
    "        if(cur_class==\"total_data\"):\n",
    "            continue;\n",
    "            \n",
    "        #Initialise prob with the probability of cur_class i.e P(y==cur_class)\n",
    "        prob = math.log(dictionary[cur_class][\"total_count\"]/dictionary[\"total_data\"])\n",
    "        \n",
    "        for i in range(3000):\n",
    "            \n",
    "            #if the current word in feature is present in the testing data\n",
    "            if(X[i]!=0):\n",
    "                prob+=math.log(X[i]*(1+dictionary[cur_class][i])/(3000+dictionary[cur_class][\"total_count\"]))\n",
    "                #we also give it a weightage according to the no. of time it is present in testing data\n",
    "                #so multiply wuth X[i]\n",
    "                \n",
    "        if(first==True or best_p<prob):\n",
    "            best_p=prob\n",
    "            res=cur_class\n",
    "            first=False\n",
    "    return res;"
   ]
  },
  {
   "cell_type": "code",
   "execution_count": 47,
   "metadata": {},
   "outputs": [],
   "source": [
    "def predict(x_test,dictionary):\n",
    "    # it contains the output\n",
    "    y_pred=[]\n",
    "    \n",
    "    for i in range(len(x_test)):\n",
    "        #for all rows predict its output\n",
    "        res=predict_single(x_test[i],dictionary)\n",
    "        \n",
    "        #append output to y_pred\n",
    "        y_pred.append(res)\n",
    "    return y_pred"
   ]
  },
  {
   "cell_type": "code",
   "execution_count": 40,
   "metadata": {},
   "outputs": [],
   "source": [
    "#First generate the dictionary for quick prediction\n",
    "dictionary=fit(x_train,y_train)"
   ]
  },
  {
   "cell_type": "code",
   "execution_count": 55,
   "metadata": {},
   "outputs": [],
   "source": [
    "#predict the testing data\n",
    "res=predict(x_test,dictionary)"
   ]
  },
  {
   "cell_type": "code",
   "execution_count": 56,
   "metadata": {},
   "outputs": [
    {
     "name": "stdout",
     "output_type": "stream",
     "text": [
      "0.8508\n"
     ]
    }
   ],
   "source": [
    "#print the accuracy\n",
    "print((res==y_test).sum()/len(y_test))"
   ]
  },
  {
   "cell_type": "code",
   "execution_count": null,
   "metadata": {},
   "outputs": [],
   "source": []
  },
  {
   "cell_type": "markdown",
   "metadata": {},
   "source": [
    "### So we are getting almost same accuracy in both the case which is nearly equal to 0.85"
   ]
  }
 ],
 "metadata": {
  "kernelspec": {
   "display_name": "Python 3",
   "language": "python",
   "name": "python3"
  },
  "language_info": {
   "codemirror_mode": {
    "name": "ipython",
    "version": 3
   },
   "file_extension": ".py",
   "mimetype": "text/x-python",
   "name": "python",
   "nbconvert_exporter": "python",
   "pygments_lexer": "ipython3",
   "version": "3.6.4"
  }
 },
 "nbformat": 4,
 "nbformat_minor": 2
}
